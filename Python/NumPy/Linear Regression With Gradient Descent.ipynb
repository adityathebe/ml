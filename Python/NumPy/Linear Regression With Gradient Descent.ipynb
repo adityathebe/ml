{
 "cells": [
  {
   "cell_type": "code",
   "execution_count": 1,
   "metadata": {},
   "outputs": [],
   "source": [
    "import numpy as np"
   ]
  },
  {
   "cell_type": "code",
   "execution_count": 2,
   "metadata": {},
   "outputs": [],
   "source": [
    "# Function to fit\n",
    "M = 5\n",
    "B = 7\n",
    "def fn(x):\n",
    "    return M * x + B"
   ]
  },
  {
   "cell_type": "code",
   "execution_count": 3,
   "metadata": {},
   "outputs": [],
   "source": [
    "# Generate Dataset\n",
    "sample_size = 50\n",
    "noise = 5\n",
    "X = np.linspace(1, 20, sample_size)\n",
    "y = fn(X) + np.random.uniform(-noise, noise, size=(sample_size,))"
   ]
  },
  {
   "cell_type": "code",
   "execution_count": 4,
   "metadata": {},
   "outputs": [],
   "source": [
    "import matplotlib.pyplot as plt"
   ]
  },
  {
   "cell_type": "code",
   "execution_count": 5,
   "metadata": {},
   "outputs": [
    {
     "data": {
      "text/plain": [
       "<matplotlib.collections.PathCollection at 0x7f13e96a3e10>"
      ]
     },
     "execution_count": 5,
     "metadata": {},
     "output_type": "execute_result"
    },
    {
     "data": {
      "image/png": "[encoded data removed]",
      "text/plain": [
       "<Figure size 432x288 with 1 Axes>"
      ]
     },
     "metadata": {
      "needs_background": "light"
     },
     "output_type": "display_data"
    }
   ],
   "source": [
    "plt.scatter(X, y, s=1.5)"
   ]
  },
  {
   "cell_type": "code",
   "execution_count": 6,
   "metadata": {},
   "outputs": [],
   "source": [
    "# Modeling function\n",
    "def fn_(x, m, b):\n",
    "    return m * x + b"
   ]
  },
  {
   "cell_type": "code",
   "execution_count": 7,
   "metadata": {},
   "outputs": [
    {
     "name": "stdout",
     "output_type": "stream",
     "text": [
      "slope = 6, intercept = 8\n"
     ]
    }
   ],
   "source": [
    "# Select a random value for the two parameters\n",
    "[m, b] = np.random.randint(0, 10, 2)\n",
    "print(f'slope = {m}, intercept = {b}')"
   ]
  },
  {
   "cell_type": "code",
   "execution_count": 8,
   "metadata": {},
   "outputs": [
    {
     "name": "stdout",
     "output_type": "stream",
     "text": [
      "CPU times: user 694 ms, sys: 522 µs, total: 694 ms\n",
      "Wall time: 699 ms\n"
     ]
    }
   ],
   "source": [
    "%%time\n",
    "# Train\n",
    "learning_rate = 0.0001\n",
    "epochs = 10000\n",
    "for _ in range(epochs):\n",
    "    delta_m = 0\n",
    "    delta_b = 0\n",
    "    for idx, x in enumerate(X):\n",
    "        target_val = y[idx]\n",
    "        predicted_val = fn_(x, m, b)\n",
    "        error = target_val - predicted_val\n",
    "        delta_m += x * error * learning_rate\n",
    "        delta_b += error * learning_rate\n",
    "    m += delta_m \n",
    "    b += delta_b"
   ]
  },
  {
   "cell_type": "code",
   "execution_count": 9,
   "metadata": {},
   "outputs": [
    {
     "name": "stdout",
     "output_type": "stream",
     "text": [
      "5.073899829529729 5.804870962883604\n"
     ]
    }
   ],
   "source": [
    "print(m, b)"
   ]
  },
  {
   "cell_type": "code",
   "execution_count": 10,
   "metadata": {},
   "outputs": [
    {
     "name": "stdout",
     "output_type": "stream",
     "text": [
      "Actual = [57 62 67 72 77] && Predicted [56.54386926 61.61776909 66.69166892 71.76556875 76.83946858]\n"
     ]
    }
   ],
   "source": [
    "# Test\n",
    "test_x = np.arange(10, 15)\n",
    "actual = fn(test_x)\n",
    "predicted = fn_(test_x, m, b)\n",
    "print(f'Actual = {actual} && Predicted {predicted}')"
   ]
  }
 ],
 "metadata": {
  "kernelspec": {
   "display_name": "Python 3",
   "language": "python",
   "name": "python3"
  },
  "language_info": {
   "codemirror_mode": {
    "name": "ipython",
    "version": 3
   },
   "file_extension": ".py",
   "mimetype": "text/x-python",
   "name": "python",
   "nbconvert_exporter": "python",
   "pygments_lexer": "ipython3",
   "version": "3.7.3"
  }
 },
 "nbformat": 4,
 "nbformat_minor": 2
}
