{
 "cells": [
  {
   "cell_type": "markdown",
   "metadata": {},
   "source": [
    "# Maths in Numpy\n",
    "\n",
    "Python comes with its own math module that works on Python native objects. Unfortunately, if you try to use  Math.cos on a NumPy array, it will not work, as the math functions are meant to operate on elements and not on lists or arrays. Hence, NumPy comes with its own set of math tools.\n",
    "\n",
    "When importing NumPy, most of the math tools are automatically included."
   ]
  },
  {
   "cell_type": "markdown",
   "metadata": {},
   "source": [
    "## 1. Linear Algebra"
   ]
  },
  {
   "cell_type": "code",
   "execution_count": 10,
   "metadata": {},
   "outputs": [],
   "source": [
    "import numpy as np"
   ]
  },
  {
   "cell_type": "markdown",
   "metadata": {},
   "source": [
    "![](http://i.imgur.com/eEezsC2.png)"
   ]
  },
  {
   "cell_type": "code",
   "execution_count": 14,
   "metadata": {},
   "outputs": [],
   "source": [
    "A = np.matrix([ [3, 6, -5], [1, -3, 2], [5, -1, 4] ])\n",
    "B = np.matrix([ [12], [-2], [10] ])"
   ]
  },
  {
   "cell_type": "code",
   "execution_count": 18,
   "metadata": {},
   "outputs": [
    {
     "name": "stdout",
     "output_type": "stream",
     "text": [
      "[[1.75]\n",
      " [1.75]\n",
      " [0.75]]\n"
     ]
    }
   ],
   "source": [
    "X = A ** (-1) * B\n",
    "print(X)"
   ]
  },
  {
   "cell_type": "markdown",
   "metadata": {},
   "source": [
    "**The same operation can be achieved without specifically using the numpy.matrix subclass. (The numpy.matrix subclass is contained within the numpy.array class, which means that we can do the same example as that above without directly invoking the numpy.matrix class.)**"
   ]
  },
  {
   "cell_type": "code",
   "execution_count": 24,
   "metadata": {},
   "outputs": [],
   "source": [
    "a = np.array([ [3, 6, -5], [1, -3, 2], [5, -1, 4] ])\n",
    "b = np.array([ [12], [-2], [10] ])"
   ]
  },
  {
   "cell_type": "code",
   "execution_count": 25,
   "metadata": {},
   "outputs": [
    {
     "name": "stdout",
     "output_type": "stream",
     "text": [
      "[[1.75]\n",
      " [1.75]\n",
      " [0.75]]\n"
     ]
    }
   ],
   "source": [
    "x = np.linalg.inv(a).dot(b)\n",
    "print(x)"
   ]
  },
  {
   "cell_type": "markdown",
   "metadata": {},
   "source": [
    "Both methods of approaching linear algebra operations are viable, but which one is the best? \n",
    "\n",
    "- The numpy.matrix method is syntactically the simplest. \n",
    "- However, numpy.array is the most practical. First, the NumPy array is the standard for using nearly anything in\n",
    "the scientific Python environment, so bugs pertaining to the linear algebra operations will be less frequent than with numpy.matrix operations. Furthermore, in examples such as the two shown above, the numpy.array method is computationally faster."
   ]
  }
 ],
 "metadata": {
  "kernelspec": {
   "display_name": "Python 3",
   "language": "python",
   "name": "python3"
  },
  "language_info": {
   "codemirror_mode": {
    "name": "ipython",
    "version": 3
   },
   "file_extension": ".py",
   "mimetype": "text/x-python",
   "name": "python",
   "nbconvert_exporter": "python",
   "pygments_lexer": "ipython3",
   "version": "3.6.8"
  }
 },
 "nbformat": 4,
 "nbformat_minor": 2
}
